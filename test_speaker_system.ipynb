{
 "cells": [
  {
   "cell_type": "code",
   "execution_count": 4,
   "metadata": {},
   "outputs": [],
   "source": [
    "import sounddevice as sd\n",
    "import numpy as np\n",
    "sd.default.device='ライン (ZOOM UAC-8 Audio), Windows WDM-KS'\n",
    "\n",
    "fs = 44100\n",
    "sd.default.samplerate = fs"
   ]
  },
  {
   "cell_type": "code",
   "execution_count": 5,
   "metadata": {},
   "outputs": [],
   "source": [
    "duration = 10\n",
    "\n",
    "t = np.linspace(0, duration, fs*duration)\n",
    "f1 = 1e3\n",
    "f2 = 2e3\n",
    "f3 = 3e3\n",
    "f4 = 4e3\n",
    "\n",
    "s = 1*np.array([np.sin(2*np.pi*f1*t), \n",
    "              np.sin(2*np.pi*f2*t), \n",
    "              np.sin(2*np.pi*f3*t), \n",
    "              np.sin(2*np.pi*f4*t)])\n",
    "\n",
    "sd.play(s.T, fs, mapping=[3, 4, 5, 6])"
   ]
  },
  {
   "cell_type": "markdown",
   "metadata": {},
   "source": [
    "## check SP1"
   ]
  },
  {
   "cell_type": "code",
   "execution_count": 12,
   "metadata": {},
   "outputs": [
    {
     "name": "stderr",
     "output_type": "stream",
     "text": [
      "C:\\ProgramData\\Anaconda3\\lib\\site-packages\\ipykernel_launcher.py:3: DeprecationWarning: object of type <class 'float'> cannot be safely interpreted as an integer.\n",
      "  This is separate from the ipykernel package so we can avoid doing imports until\n"
     ]
    }
   ],
   "source": [
    "duration = 0.1\n",
    "\n",
    "t = np.linspace(0, duration, fs*duration)\n",
    "t = np.tile(t, 100)\n",
    "f1 = 1e3\n",
    "\n",
    "s1 = np.sin(2*np.pi*f1/duration*t*t/2)\n",
    "\n",
    "s = 1*np.array([s1, \n",
    "              np.zeros_like(s1), \n",
    "              np.zeros_like(s1), \n",
    "              np.zeros_like(s1)])\n",
    "\n",
    "sd.play(s.T, fs, mapping=[3, 4, 5, 6])"
   ]
  },
  {
   "cell_type": "code",
   "execution_count": 14,
   "metadata": {},
   "outputs": [
    {
     "name": "stderr",
     "output_type": "stream",
     "text": [
      "C:\\ProgramData\\Anaconda3\\lib\\site-packages\\ipykernel_launcher.py:4: DeprecationWarning: object of type <class 'float'> cannot be safely interpreted as an integer.\n",
      "  after removing the cwd from sys.path.\n"
     ]
    }
   ],
   "source": [
    "# check SP2\n",
    "duration = 0.1\n",
    "\n",
    "t = np.linspace(0, duration, fs*duration)\n",
    "t = np.tile(t, 100)\n",
    "f1 = 1e3\n",
    "\n",
    "s1 = np.sin(2*np.pi*f1/duration*t*t/2)\n",
    "\n",
    "s = 1*np.array([np.zeros_like(s1),\n",
    "              s1, \n",
    "              np.zeros_like(s1), \n",
    "              np.zeros_like(s1)])\n",
    "\n",
    "sd.play(s.T, fs, mapping=[3, 4, 5, 6])"
   ]
  },
  {
   "cell_type": "code",
   "execution_count": 15,
   "metadata": {},
   "outputs": [
    {
     "name": "stderr",
     "output_type": "stream",
     "text": [
      "C:\\ProgramData\\Anaconda3\\lib\\site-packages\\ipykernel_launcher.py:4: DeprecationWarning: object of type <class 'float'> cannot be safely interpreted as an integer.\n",
      "  after removing the cwd from sys.path.\n"
     ]
    }
   ],
   "source": [
    "# check SP3\n",
    "duration = 0.1\n",
    "\n",
    "t = np.linspace(0, duration, fs*duration)\n",
    "t = np.tile(t, 100)\n",
    "f1 = 1e3\n",
    "\n",
    "s1 = np.sin(2*np.pi*f1/duration*t*t/2)\n",
    "\n",
    "s = 1*np.array([np.zeros_like(s1),\n",
    "              np.zeros_like(s1), \n",
    "              s1, \n",
    "              np.zeros_like(s1)])\n",
    "\n",
    "sd.play(s.T, fs, mapping=[3, 4, 5, 6])"
   ]
  },
  {
   "cell_type": "code",
   "execution_count": 16,
   "metadata": {},
   "outputs": [
    {
     "name": "stderr",
     "output_type": "stream",
     "text": [
      "C:\\ProgramData\\Anaconda3\\lib\\site-packages\\ipykernel_launcher.py:4: DeprecationWarning: object of type <class 'float'> cannot be safely interpreted as an integer.\n",
      "  after removing the cwd from sys.path.\n"
     ]
    }
   ],
   "source": [
    "# check SP4\n",
    "duration = 0.1\n",
    "\n",
    "t = np.linspace(0, duration, fs*duration)\n",
    "t = np.tile(t, 100)\n",
    "f1 = 1e3\n",
    "\n",
    "s1 = np.sin(2*np.pi*f1/duration*t*t/2)\n",
    "\n",
    "s = 1*np.array([np.zeros_like(s1),\n",
    "              np.zeros_like(s1),\n",
    "              np.zeros_like(s1), \n",
    "              s1])\n",
    "\n",
    "sd.play(s.T, fs, mapping=[3, 4, 5, 6])"
   ]
  },
  {
   "cell_type": "code",
   "execution_count": 17,
   "metadata": {},
   "outputs": [
    {
     "name": "stderr",
     "output_type": "stream",
     "text": [
      "C:\\ProgramData\\Anaconda3\\lib\\site-packages\\ipykernel_launcher.py:4: DeprecationWarning: object of type <class 'float'> cannot be safely interpreted as an integer.\n",
      "  after removing the cwd from sys.path.\n"
     ]
    }
   ],
   "source": [
    "# check SP4\n",
    "duration = 0.1\n",
    "\n",
    "t = np.linspace(0, duration, fs*duration)\n",
    "t = np.tile(t, 100)\n",
    "f1 = 1e3\n",
    "\n",
    "s1 = np.sin(2*np.pi*f1/duration*t*t/2)\n",
    "\n",
    "s = 1*np.array([np.zeros_like(s1),\n",
    "              np.zeros_like(s1),\n",
    "              np.zeros_like(s1), \n",
    "              s1])\n",
    "\n",
    "sd.play(s.T, fs, mapping=[3, 4, 5, 6])"
   ]
  },
  {
   "cell_type": "code",
   "execution_count": null,
   "metadata": {},
   "outputs": [],
   "source": []
  }
 ],
 "metadata": {
  "kernelspec": {
   "display_name": "Python 3",
   "language": "python",
   "name": "python3"
  },
  "language_info": {
   "codemirror_mode": {
    "name": "ipython",
    "version": 3
   },
   "file_extension": ".py",
   "mimetype": "text/x-python",
   "name": "python",
   "nbconvert_exporter": "python",
   "pygments_lexer": "ipython3",
   "version": "3.6.5"
  }
 },
 "nbformat": 4,
 "nbformat_minor": 2
}
